{
 "cells": [
  {
   "cell_type": "markdown",
   "metadata": {},
   "source": [
    "# General Functions"
   ]
  },
  {
   "cell_type": "code",
   "execution_count": 1,
   "metadata": {},
   "outputs": [],
   "source": [
    "def get_input(day):\n",
    "    input_day = []\n",
    "    with open(f\"input_day_{day}\", \"r\") as f:\n",
    "        for line in f:\n",
    "            input_day.append(line[:-1])\n",
    "    return input_day"
   ]
  },
  {
   "cell_type": "markdown",
   "metadata": {},
   "source": [
    "# [Day 1](https://adventofcode.com/2020/day/1)\n",
    "## Part A\n",
    "I wrote a solution that will look for an expected sum and return the values and the multiplication. If the sum cannot be build, it will just print that no solution exists and return None."
   ]
  },
  {
   "cell_type": "code",
   "execution_count": 2,
   "metadata": {},
   "outputs": [],
   "source": [
    "input_day_1 = [int(val) for val in get_input(1)]"
   ]
  },
  {
   "cell_type": "code",
   "execution_count": 3,
   "metadata": {},
   "outputs": [
    {
     "name": "stdout",
     "output_type": "stream",
     "text": [
      "((267, 1753), 468051)\n"
     ]
    }
   ],
   "source": [
    "def solution_part_1(input_list, expected_sum):\n",
    "    input_list_sorted = sorted(input_list)\n",
    "    start = 0\n",
    "    end = len(input_list_sorted)-1\n",
    "    try:\n",
    "        while (int_sum:=input_list_sorted[start]+input_list_sorted[end])!=expected_sum:\n",
    "            if int_sum<expected_sum:\n",
    "                start += 1\n",
    "            elif int_sum>expected_sum:\n",
    "                end -= 1\n",
    "    except IndexError:\n",
    "        print(\"No valid solution found!\")\n",
    "        return None\n",
    "    return (input_list_sorted[start], input_list_sorted[end]),input_list_sorted[start]*input_list_sorted[end]\n",
    "print(solution_part_1(input_day_1, 2020))"
   ]
  },
  {
   "cell_type": "markdown",
   "metadata": {},
   "source": [
    "## Part B\n",
    "I rewrote the solution so it can solve Part A and B."
   ]
  },
  {
   "cell_type": "code",
   "execution_count": 4,
   "metadata": {},
   "outputs": [
    {
     "name": "stdout",
     "output_type": "stream",
     "text": [
      "((523, 551, 946), 272611658)\n"
     ]
    }
   ],
   "source": [
    "import itertools\n",
    "import math\n",
    "def get_day_1_result(input_list, amount_numbers, expected_sum):\n",
    "    for combination in itertools.combinations(input_list, amount_numbers):\n",
    "        if sum(combination)==expected_sum:\n",
    "            return combination, math.prod(combination)\n",
    "print(get_day_1_result(input_day_1, 3, 2020))"
   ]
  },
  {
   "cell_type": "markdown",
   "metadata": {},
   "source": [
    "## Speed Comparison\n",
    "Comparing the Part A Solution and Part B Solution used for A."
   ]
  },
  {
   "cell_type": "code",
   "execution_count": 5,
   "metadata": {},
   "outputs": [
    {
     "name": "stdout",
     "output_type": "stream",
     "text": [
      "2.58 ms ± 170 µs per loop (mean ± std. dev. of 7 runs, 100 loops each)\n"
     ]
    }
   ],
   "source": [
    "%timeit get_day_1_result(input_day_1, 2, 2020)"
   ]
  },
  {
   "cell_type": "code",
   "execution_count": 6,
   "metadata": {},
   "outputs": [
    {
     "name": "stdout",
     "output_type": "stream",
     "text": [
      "51.4 µs ± 998 ns per loop (mean ± std. dev. of 7 runs, 10000 loops each)\n"
     ]
    }
   ],
   "source": [
    "%timeit solution_part_1(input_day_1, 2020)"
   ]
  },
  {
   "cell_type": "markdown",
   "metadata": {},
   "source": [
    "# [Day 2](https://adventofcode.com/2020/day/2)\n",
    "## Part A"
   ]
  },
  {
   "cell_type": "code",
   "execution_count": 7,
   "metadata": {},
   "outputs": [],
   "source": [
    "def tobbogan_password_validation(password, letter, min_amount, max_amount):\n",
    "    return min_amount <= password.count(letter) <= max_amount"
   ]
  },
  {
   "cell_type": "code",
   "execution_count": 8,
   "metadata": {},
   "outputs": [],
   "source": [
    "def split_line(line):\n",
    "    parts = line.split(' ')\n",
    "    password = parts[2]\n",
    "    letter = parts[1][:-1]\n",
    "    min_amount, max_amount = (parts[0].split('-'))\n",
    "    return (password, letter, int(min_amount), int(max_amount))"
   ]
  },
  {
   "cell_type": "code",
   "execution_count": 9,
   "metadata": {},
   "outputs": [],
   "source": [
    "result = sum([tobbogan_password_validation(*split_line(line)) for line in get_input(2)])"
   ]
  },
  {
   "cell_type": "code",
   "execution_count": 10,
   "metadata": {},
   "outputs": [
    {
     "data": {
      "text/plain": [
       "445"
      ]
     },
     "execution_count": 10,
     "metadata": {},
     "output_type": "execute_result"
    }
   ],
   "source": [
    "result"
   ]
  },
  {
   "cell_type": "markdown",
   "metadata": {},
   "source": [
    "## Part B"
   ]
  },
  {
   "cell_type": "code",
   "execution_count": 11,
   "metadata": {},
   "outputs": [],
   "source": [
    "def tobbogan_password_validation_2(password, letter, low_position, high_position):\n",
    "    return (password[low_position-1]==letter)+(password[high_position-1]==letter)==1"
   ]
  },
  {
   "cell_type": "code",
   "execution_count": 12,
   "metadata": {},
   "outputs": [],
   "source": [
    "result = sum([tobbogan_password_validation_2(*split_line(line)) for line in get_input(2)])"
   ]
  },
  {
   "cell_type": "code",
   "execution_count": 13,
   "metadata": {},
   "outputs": [
    {
     "data": {
      "text/plain": [
       "491"
      ]
     },
     "execution_count": 13,
     "metadata": {},
     "output_type": "execute_result"
    }
   ],
   "source": [
    "result"
   ]
  },
  {
   "cell_type": "markdown",
   "metadata": {},
   "source": [
    "# [Day 3](https://adventofcode.com/2020/day/3)\n",
    "## Part A"
   ]
  },
  {
   "cell_type": "code",
   "execution_count": 14,
   "metadata": {},
   "outputs": [],
   "source": [
    "input_day_3 = get_input(3)"
   ]
  },
  {
   "cell_type": "code",
   "execution_count": 15,
   "metadata": {},
   "outputs": [],
   "source": [
    "def trees_in_slope(slope, movement_to_right, movement_down):\n",
    "    x_pos = 0\n",
    "    trees = 0\n",
    "    for line_position in range(0, len(slope), movement_down):\n",
    "        line = slope[line_position]\n",
    "        trees += 1 if line[x_pos%len(line)]=='#' else 0\n",
    "        x_pos += movement_to_right\n",
    "    return trees"
   ]
  },
  {
   "cell_type": "code",
   "execution_count": 16,
   "metadata": {},
   "outputs": [
    {
     "name": "stdout",
     "output_type": "stream",
     "text": [
      "286\n"
     ]
    }
   ],
   "source": [
    "print(trees_in_slope(input_day_3,3, 1))"
   ]
  },
  {
   "cell_type": "markdown",
   "metadata": {},
   "source": [
    "## Part B"
   ]
  },
  {
   "cell_type": "code",
   "execution_count": 17,
   "metadata": {},
   "outputs": [
    {
     "name": "stdout",
     "output_type": "stream",
     "text": [
      "3638606400\n"
     ]
    }
   ],
   "source": [
    "print(math.prod([trees_in_slope(input_day_3, right,down) for right, down in [(1,1),(3,1),(5,1),(7,1),(1,2)]]))"
   ]
  },
  {
   "cell_type": "markdown",
   "metadata": {},
   "source": [
    "## Personal Bonus\n",
    "Find a path without trees."
   ]
  },
  {
   "cell_type": "code",
   "execution_count": 18,
   "metadata": {},
   "outputs": [],
   "source": [
    "import numpy as np\n",
    "down = 1\n",
    "right = 0\n",
    "num_trees = trees_in_slope(input_day_3,right,down)\n",
    "while num_trees > 0:\n",
    "    if right>1:\n",
    "        right -= 1\n",
    "    else:\n",
    "        down += 1\n",
    "        right = down\n",
    "    num_trees = min(num_trees, trees_in_slope(input_day_3,right,down))"
   ]
  },
  {
   "cell_type": "code",
   "execution_count": 19,
   "metadata": {},
   "outputs": [
    {
     "name": "stdout",
     "output_type": "stream",
     "text": [
      "No trees when going 19 down and 7 right.\n"
     ]
    }
   ],
   "source": [
    "print(f\"No trees when going {down} down and {right} right.\")"
   ]
  },
  {
   "cell_type": "markdown",
   "metadata": {},
   "source": [
    "# [Day 4](https://adventofcode.com/2020/day/4)\n",
    "## Part A"
   ]
  },
  {
   "cell_type": "code",
   "execution_count": 20,
   "metadata": {},
   "outputs": [],
   "source": [
    "input_day_4 = get_input(4)"
   ]
  },
  {
   "cell_type": "code",
   "execution_count": 21,
   "metadata": {},
   "outputs": [
    {
     "name": "stdout",
     "output_type": "stream",
     "text": [
      "256\n"
     ]
    }
   ],
   "source": [
    "current_passport = {}\n",
    "necessary_fields = {\"byr\", \"iyr\", \"eyr\", \"hgt\", \"hcl\", \"ecl\", \"pid\"}\n",
    "valid = 0\n",
    "def check_passport(passport):\n",
    "    return 0 if necessary_fields.difference(passport.keys()) else 1\n",
    "for line in input_day_4:\n",
    "    if line == '':\n",
    "        valid += check_passport(current_passport)\n",
    "        current_passport = {}\n",
    "    else:\n",
    "        current_passport.update({entry.split(':')[0]:entry.split(':')[1] for entry in line.split(' ')})\n",
    "print(valid)"
   ]
  },
  {
   "cell_type": "markdown",
   "metadata": {},
   "source": [
    "## Part B"
   ]
  },
  {
   "cell_type": "code",
   "execution_count": 22,
   "metadata": {},
   "outputs": [],
   "source": [
    "import string\n",
    "\n",
    "def check_eye_color(ecl):\n",
    "    valid_eye_colors = [\"amb\", \"blu\", \"brn\", \"gry\", \"grn\", \"hzl\", \"oth\"]\n",
    "    return ecl in valid_eye_colors\n",
    "\n",
    "def check_hair_color(hcl):\n",
    "    hexdigits = set(string.hexdigits.lower())\n",
    "    return (hcl[0]=='#' and all(c in hexdigits for c in hcl[1:]))\n",
    "\n",
    "def check_numberstring_between(number: str, low: int, high: int):\n",
    "    return low<=int(number)<=high \n",
    "\n",
    "def check_height(hgt):\n",
    "    allowed_heights = {\"cm\":(150, 193), \"in\":(59,76)}\n",
    "    measure = hgt[-2:]\n",
    "    height = hgt[:-2]\n",
    "    return measure in allowed_heights.keys() and check_numberstring_between(height, *allowed_heights[measure])\n",
    "    \n",
    "def check_birth_year(byr):\n",
    "    return check_numberstring_between(byr, 1920, 2002)\n",
    "\n",
    "def check_issue_year(iyr):\n",
    "    return check_numberstring_between(iyr, 2010, 2020)\n",
    "\n",
    "def check_expiration_year(eyr):\n",
    "    return check_numberstring_between(eyr, 2020, 2030)\n",
    "\n",
    "def check_pid(pid):\n",
    "    return len(pid)==9 and pid.isnumeric()\n",
    "\n",
    "def check_passport_extended(passport):\n",
    "    checks = {\n",
    "        \"ecl\": check_eye_color,\n",
    "        \"hcl\": check_hair_color,\n",
    "        \"hgt\": check_height,\n",
    "        \"byr\": check_birth_year,\n",
    "        \"iyr\": check_issue_year,\n",
    "        \"eyr\": check_expiration_year,\n",
    "        \"pid\": check_pid\n",
    "    }\n",
    "    try:\n",
    "        check_result = all(checker(passport.get(field, \"\")) for field, checker in checks.items())\n",
    "    except:\n",
    "        check_result = False\n",
    "    return check_result"
   ]
  },
  {
   "cell_type": "code",
   "execution_count": 23,
   "metadata": {},
   "outputs": [
    {
     "name": "stdout",
     "output_type": "stream",
     "text": [
      "198\n"
     ]
    }
   ],
   "source": [
    "valid = 0\n",
    "current_passport = {}\n",
    "for line in input_day_4:\n",
    "    if line == '':\n",
    "        valid += check_passport_extended(current_passport)\n",
    "        current_passport = {}\n",
    "    else:\n",
    "        current_passport.update({entry.split(':')[0]:entry.split(':')[1] for entry in line.split(' ')})\n",
    "print(valid)"
   ]
  },
  {
   "cell_type": "markdown",
   "metadata": {},
   "source": [
    "# [Day 5](https://adventofcode.com/2020/day/5)\n",
    "## Part A"
   ]
  },
  {
   "cell_type": "code",
   "execution_count": 24,
   "metadata": {},
   "outputs": [],
   "source": [
    "input_day_5 = get_input(5)"
   ]
  },
  {
   "cell_type": "code",
   "execution_count": 25,
   "metadata": {},
   "outputs": [
    {
     "data": {
      "text/plain": [
       "951"
      ]
     },
     "execution_count": 25,
     "metadata": {},
     "output_type": "execute_result"
    }
   ],
   "source": [
    "def compute_seat_id(boarding_string):\n",
    "    return int(boarding_string[:7].translate(str.maketrans(\"FB\",\"01\")), 2)*8+int(boarding_string[7:].translate(str.maketrans(\"LR\",\"01\")), 2)\n",
    "seat_ids = [compute_seat_id(pass_id) for pass_id in input_day_5]\n",
    "max(seat_ids)"
   ]
  },
  {
   "cell_type": "markdown",
   "metadata": {},
   "source": [
    "## Part B"
   ]
  },
  {
   "cell_type": "code",
   "execution_count": 26,
   "metadata": {},
   "outputs": [
    {
     "data": {
      "text/plain": [
       "653"
      ]
     },
     "execution_count": 26,
     "metadata": {},
     "output_type": "execute_result"
    }
   ],
   "source": [
    "def find_seat(seat_list):\n",
    "    seat_list = sorted(seat_list)\n",
    "    for index, seat in enumerate(seat_list):\n",
    "        if seat+2 == seat_list[index+1]:\n",
    "            return seat+1\n",
    "find_seat(seat_ids)"
   ]
  },
  {
   "cell_type": "markdown",
   "metadata": {},
   "source": [
    "# [Day 6](https://adventofcode.com/2020/day/6)\n",
    "## Part A"
   ]
  },
  {
   "cell_type": "code",
   "execution_count": 27,
   "metadata": {},
   "outputs": [],
   "source": [
    "input_day_6 = get_input(6)"
   ]
  },
  {
   "cell_type": "code",
   "execution_count": 28,
   "metadata": {},
   "outputs": [
    {
     "name": "stdout",
     "output_type": "stream",
     "text": [
      "6612\n"
     ]
    }
   ],
   "source": [
    "current_group = set()\n",
    "answers = []\n",
    "for line in input_day_6:\n",
    "    if line == '':\n",
    "        answers.append(len(current_group))\n",
    "        current_group = set()\n",
    "    else:\n",
    "        current_group = current_group.union(set(line))\n",
    "print(sum(answers))"
   ]
  },
  {
   "cell_type": "markdown",
   "metadata": {},
   "source": [
    "## Part B"
   ]
  },
  {
   "cell_type": "code",
   "execution_count": 29,
   "metadata": {},
   "outputs": [
    {
     "name": "stdout",
     "output_type": "stream",
     "text": [
      "3268\n"
     ]
    }
   ],
   "source": [
    "current_group = None\n",
    "answers = []\n",
    "for line in input_day_6:\n",
    "    if line == '':\n",
    "        answers.append(len(current_group))\n",
    "        current_group = None\n",
    "    elif current_group is None:\n",
    "        current_group = set(line)\n",
    "    else:\n",
    "        current_group = current_group.intersection(set(line))\n",
    "print(sum(answers))"
   ]
  },
  {
   "cell_type": "code",
   "execution_count": null,
   "metadata": {},
   "outputs": [],
   "source": []
  }
 ],
 "metadata": {
  "kernelspec": {
   "display_name": "Python 3",
   "language": "python",
   "name": "python3"
  },
  "language_info": {
   "codemirror_mode": {
    "name": "ipython",
    "version": 3
   },
   "file_extension": ".py",
   "mimetype": "text/x-python",
   "name": "python",
   "nbconvert_exporter": "python",
   "pygments_lexer": "ipython3",
   "version": "3.8.5"
  }
 },
 "nbformat": 4,
 "nbformat_minor": 4
}
