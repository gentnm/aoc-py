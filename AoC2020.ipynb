{
 "cells": [
  {
   "cell_type": "markdown",
   "metadata": {},
   "source": [
    "# General Functions"
   ]
  },
  {
   "cell_type": "code",
   "execution_count": 1,
   "metadata": {},
   "outputs": [],
   "source": [
    "def get_input(day):\n",
    "    input_day = []\n",
    "    with open(f\"input_day_{day}\", \"r\") as f:\n",
    "        for line in f:\n",
    "            input_day.append(line)\n",
    "    return input_day"
   ]
  },
  {
   "cell_type": "markdown",
   "metadata": {},
   "source": [
    "# [Day 1](https://adventofcode.com/2020/day/1)\n",
    "## Part A\n",
    "I wrote a solution that will look for an expected sum and return the values and the multiplication. If the sum cannot be build, it will just print that no solution exists and return None."
   ]
  },
  {
   "cell_type": "code",
   "execution_count": 2,
   "metadata": {},
   "outputs": [],
   "source": [
    "input_day_1 = [int(val) for val in get_input(1)]"
   ]
  },
  {
   "cell_type": "code",
   "execution_count": 3,
   "metadata": {},
   "outputs": [
    {
     "data": {
      "text/plain": [
       "((267, 1753), 468051)"
      ]
     },
     "execution_count": 3,
     "metadata": {},
     "output_type": "execute_result"
    }
   ],
   "source": [
    "def solution_part_1(input_list, expected_sum):\n",
    "    input_list_sorted = sorted(input_list)\n",
    "    start = 0\n",
    "    end = len(input_list_sorted)-1\n",
    "    try:\n",
    "        while (int_sum:=input_list_sorted[start]+input_list_sorted[end])!=expected_sum:\n",
    "            if int_sum<expected_sum:\n",
    "                start += 1\n",
    "            elif int_sum>expected_sum:\n",
    "                end -= 1\n",
    "    except IndexError:\n",
    "        print(\"No valid solution found!\")\n",
    "        return None\n",
    "    return (input_list_sorted[start], input_list_sorted[end]),input_list_sorted[start]*input_list_sorted[end]\n",
    "solution_part_1(input_day_1, 2020)"
   ]
  },
  {
   "cell_type": "markdown",
   "metadata": {},
   "source": [
    "## Part B\n",
    "I rewrote the solution so it can solve Part A and B."
   ]
  },
  {
   "cell_type": "code",
   "execution_count": 4,
   "metadata": {},
   "outputs": [
    {
     "name": "stdout",
     "output_type": "stream",
     "text": [
      "((523, 551, 946), 272611658)\n"
     ]
    }
   ],
   "source": [
    "import itertools\n",
    "import math\n",
    "def get_day_1_result(input_list, amount_numbers, expected_sum):\n",
    "    for combination in itertools.combinations(input_list, amount_numbers):\n",
    "        if sum(combination)==expected_sum:\n",
    "            return combination, math.prod(combination)\n",
    "print(get_day_1_result(input_day_1, 3, 2020))"
   ]
  },
  {
   "cell_type": "markdown",
   "metadata": {},
   "source": [
    "## Speed Comparison\n",
    "Comparing the Part A Solution and Part B Solution used for A."
   ]
  },
  {
   "cell_type": "code",
   "execution_count": 5,
   "metadata": {},
   "outputs": [
    {
     "name": "stdout",
     "output_type": "stream",
     "text": [
      "3.27 ms ± 653 µs per loop (mean ± std. dev. of 7 runs, 100 loops each)\n"
     ]
    }
   ],
   "source": [
    "%timeit get_day_1_result(input_day_1, 2, 2020)"
   ]
  },
  {
   "cell_type": "code",
   "execution_count": 6,
   "metadata": {},
   "outputs": [
    {
     "name": "stdout",
     "output_type": "stream",
     "text": [
      "76.1 µs ± 18.6 µs per loop (mean ± std. dev. of 7 runs, 10000 loops each)\n"
     ]
    }
   ],
   "source": [
    "%timeit solution_part_1(input_day_1, 2020)"
   ]
  },
  {
   "cell_type": "code",
   "execution_count": null,
   "metadata": {},
   "outputs": [],
   "source": []
  }
 ],
 "metadata": {
  "kernelspec": {
   "display_name": "Python 3",
   "language": "python",
   "name": "python3"
  },
  "language_info": {
   "codemirror_mode": {
    "name": "ipython",
    "version": 3
   },
   "file_extension": ".py",
   "mimetype": "text/x-python",
   "name": "python",
   "nbconvert_exporter": "python",
   "pygments_lexer": "ipython3",
   "version": "3.8.5"
  }
 },
 "nbformat": 4,
 "nbformat_minor": 4
}
